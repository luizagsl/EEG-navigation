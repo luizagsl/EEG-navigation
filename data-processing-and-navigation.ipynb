{
 "cells": [
  {
   "cell_type": "markdown",
   "metadata": {},
   "source": [
    "# EEG signal processing and spatial navigation\n",
    "\n",
    "<br>Original database available [here](https://sccn.ucsd.edu/~arno/fam2data/orifam2.html).\n",
    "<br>Event files (.txt) were generated with EEGLAB and added to their respective subject folders."
   ]
  },
  {
   "cell_type": "markdown",
   "metadata": {},
   "source": [
    "### Library settings"
   ]
  },
  {
   "cell_type": "code",
   "execution_count": 1,
   "metadata": {
    "scrolled": true
   },
   "outputs": [],
   "source": [
    "from numpy import array\n",
    "from os import listdir, getcwd\n",
    "from os.path import realpath, join\n",
    "from src.subjectfunctions import subject\n",
    "from src.decisionsys import LayoutNavigation, DirectionNavigation"
   ]
  },
  {
   "cell_type": "markdown",
   "metadata": {},
   "source": [
    "### Path to database folder"
   ]
  },
  {
   "cell_type": "code",
   "execution_count": 2,
   "metadata": {
    "scrolled": true
   },
   "outputs": [],
   "source": [
    "__location__ = realpath(getcwd())\n",
    "DATABASE_FOLDER = join(__location__, 'Database-EEG')"
   ]
  },
  {
   "cell_type": "markdown",
   "metadata": {},
   "source": [
    "### Listing subjects in database"
   ]
  },
  {
   "cell_type": "code",
   "execution_count": 3,
   "metadata": {
    "scrolled": true
   },
   "outputs": [
    {
     "name": "stdout",
     "output_type": "stream",
     "text": [
      "cba, clm, ega, fsa, gro, hth, lmi, mba\n"
     ]
    }
   ],
   "source": [
    "list_subjects = []\n",
    "for subject_folder in listdir(DATABASE_FOLDER):\n",
    "    list_subjects.append(subject_folder)\n",
    "print(*list_subjects, sep=', ')"
   ]
  },
  {
   "cell_type": "markdown",
   "metadata": {
    "scrolled": true
   },
   "source": [
    "### Name pattern of categorization files\n",
    "\n",
    "cat_file_pattern = ['1ff01', '1ff04', '1ff07', '1ff10', '1ff13', '2ff01', '2ff04', '2ff07', '2ff10', '2ff12']"
   ]
  },
  {
   "cell_type": "markdown",
   "metadata": {},
   "source": [
    "### Creating object and loading data"
   ]
  },
  {
   "cell_type": "code",
   "execution_count": 4,
   "metadata": {},
   "outputs": [],
   "source": [
    "subject_object = subject(subject_id='cba')\n",
    "subject_object.load_data(selected_file='1ff13')"
   ]
  },
  {
   "cell_type": "markdown",
   "metadata": {},
   "source": [
    "### Checking names of selected channels"
   ]
  },
  {
   "cell_type": "code",
   "execution_count": 5,
   "metadata": {},
   "outputs": [
    {
     "data": {
      "text/plain": [
       "['FP1', 'FP2', 'F3', 'F4']"
      ]
     },
     "execution_count": 5,
     "metadata": {},
     "output_type": "execute_result"
    }
   ],
   "source": [
    "subject_object.ch_names"
   ]
  },
  {
   "cell_type": "markdown",
   "metadata": {},
   "source": [
    "### Navigation input signal"
   ]
  },
  {
   "cell_type": "code",
   "execution_count": 6,
   "metadata": {},
   "outputs": [
    {
     "name": "stdout",
     "output_type": "stream",
     "text": [
      "Binary signal: [0 1 0 0 1 1 0 1 0 0 0 1 0 0 1 0 0 0 1 0 0 1 1 0 1 0 0 1 1 0 0 1 1 1 0 0 0\n",
      " 0 0 1 0 0 0 0 1 0 0 0 0 0 0 0 1 1 0 1 0 0 0 0 0 0 1 0 0 0 0 0 0 1 1 1 0 0\n",
      " 0 0 0 0 0 0 0 0 1 0 1 0 0 0 0 0 0 0 0 0 0 1 1 1 1 1]\n",
      "Signal lenght: 100 elements\n"
     ]
    }
   ],
   "source": [
    "input_signal = subject_object.binary_signal\n",
    "print('Binary signal: {}\\nSignal lenght: {} elements'.format(array(input_signal), len(input_signal)))"
   ]
  },
  {
   "cell_type": "markdown",
   "metadata": {},
   "source": [
    "### Decision system"
   ]
  },
  {
   "cell_type": "markdown",
   "metadata": {},
   "source": [
    "#### Navigate through a house layout"
   ]
  },
  {
   "cell_type": "code",
   "execution_count": 7,
   "metadata": {
    "scrolled": false
   },
   "outputs": [
    {
     "name": "stdout",
     "output_type": "stream",
     "text": [
      "Step 1 in navigation, in bed, answer is no for bat\n",
      "Step 2 in navigation, in bed, answer is yes for liv\n",
      "Step 3 in navigation, in liv, answer is no for yrd\n",
      "Step 4 in navigation, in liv, answer is no for ktc\n",
      "Step 5 in navigation, in liv, answer is yes for bed\n",
      "Step 6 in navigation, in bed, answer is yes for bat\n",
      "Step 7 in navigation, in bat, answer is no for bed\n",
      "Step 8 in navigation, in bat, answer is yes for bed\n",
      "Step 9 in navigation, in bed, answer is no for bat\n",
      "Step 10 in navigation, in bed, answer is no for liv\n"
     ]
    }
   ],
   "source": [
    "LayoutNavigation().navigate(start_point='bed', input_signal=input_signal[0:10])"
   ]
  },
  {
   "cell_type": "markdown",
   "metadata": {},
   "source": [
    "#### Navigate through 2D plan by directions"
   ]
  },
  {
   "cell_type": "code",
   "execution_count": 8,
   "metadata": {
    "scrolled": true
   },
   "outputs": [
    {
     "name": "stdout",
     "output_type": "stream",
     "text": [
      "Step 1 in navigation, in [5, 5], answer is no for up\n",
      "Step 2 in navigation, in [5, 5], answer is yes for down\n",
      "Step 3 in navigation, in [5 4], answer is no for up\n",
      "Step 4 in navigation, in [5 4], answer is no for down\n",
      "Step 5 in navigation, in [5 4], answer is yes for right\n",
      "Step 6 in navigation, in [6 4], answer is yes for up\n",
      "Step 7 in navigation, in [6 5], answer is no for up\n",
      "Step 8 in navigation, in [6 5], answer is yes for down\n",
      "Step 9 in navigation, in [6 4], answer is no for up\n",
      "Step 10 in navigation, in [6 4], answer is no for down\n",
      "Step 10 in navigation, in [6 4], answer is no for up\n"
     ]
    }
   ],
   "source": [
    "DirectionNavigation().navigate(start_point=[5,5], input_signal=input_signal[0:10])"
   ]
  }
 ],
 "metadata": {
  "kernelspec": {
   "display_name": "Python 3",
   "language": "python",
   "name": "python3"
  },
  "language_info": {
   "codemirror_mode": {
    "name": "ipython",
    "version": 3
   },
   "file_extension": ".py",
   "mimetype": "text/x-python",
   "name": "python",
   "nbconvert_exporter": "python",
   "pygments_lexer": "ipython3",
   "version": "3.7.3"
  },
  "toc": {
   "base_numbering": 1,
   "nav_menu": {
    "height": "191px",
    "width": "285.646px"
   },
   "number_sections": false,
   "sideBar": false,
   "skip_h1_title": false,
   "title_cell": "Table of Contents",
   "title_sidebar": "Contents",
   "toc_cell": false,
   "toc_position": {},
   "toc_section_display": false,
   "toc_window_display": false
  }
 },
 "nbformat": 4,
 "nbformat_minor": 2
}
